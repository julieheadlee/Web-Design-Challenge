{
 "cells": [
  {
   "cell_type": "code",
   "execution_count": 1,
   "metadata": {},
   "outputs": [],
   "source": [
    "import pandas as pd\n"
   ]
  },
  {
   "cell_type": "code",
   "execution_count": 2,
   "metadata": {},
   "outputs": [
    {
     "data": {
      "text/html": [
       "<div>\n",
       "<style scoped>\n",
       "    .dataframe tbody tr th:only-of-type {\n",
       "        vertical-align: middle;\n",
       "    }\n",
       "\n",
       "    .dataframe tbody tr th {\n",
       "        vertical-align: top;\n",
       "    }\n",
       "\n",
       "    .dataframe thead th {\n",
       "        text-align: right;\n",
       "    }\n",
       "</style>\n",
       "<table border=\"1\" class=\"dataframe\">\n",
       "  <thead>\n",
       "    <tr style=\"text-align: right;\">\n",
       "      <th></th>\n",
       "      <th>city</th>\n",
       "      <th>lat</th>\n",
       "      <th>lon</th>\n",
       "      <th>maxtemp</th>\n",
       "      <th>humidity</th>\n",
       "      <th>cloudiness</th>\n",
       "      <th>windspeed</th>\n",
       "      <th>country</th>\n",
       "      <th>datetime</th>\n",
       "    </tr>\n",
       "  </thead>\n",
       "  <tbody>\n",
       "    <tr>\n",
       "      <th>0</th>\n",
       "      <td>jalu</td>\n",
       "      <td>29.03</td>\n",
       "      <td>21.55</td>\n",
       "      <td>59.20</td>\n",
       "      <td>35</td>\n",
       "      <td>0</td>\n",
       "      <td>11.54</td>\n",
       "      <td>LY</td>\n",
       "      <td>1607229534</td>\n",
       "    </tr>\n",
       "    <tr>\n",
       "      <th>1</th>\n",
       "      <td>butaritari</td>\n",
       "      <td>3.07</td>\n",
       "      <td>172.79</td>\n",
       "      <td>82.04</td>\n",
       "      <td>78</td>\n",
       "      <td>90</td>\n",
       "      <td>12.48</td>\n",
       "      <td>KI</td>\n",
       "      <td>1607229534</td>\n",
       "    </tr>\n",
       "    <tr>\n",
       "      <th>2</th>\n",
       "      <td>port elizabeth</td>\n",
       "      <td>-33.92</td>\n",
       "      <td>25.57</td>\n",
       "      <td>66.20</td>\n",
       "      <td>93</td>\n",
       "      <td>90</td>\n",
       "      <td>10.29</td>\n",
       "      <td>ZA</td>\n",
       "      <td>1607229449</td>\n",
       "    </tr>\n",
       "    <tr>\n",
       "      <th>3</th>\n",
       "      <td>yar-sale</td>\n",
       "      <td>66.83</td>\n",
       "      <td>70.83</td>\n",
       "      <td>11.26</td>\n",
       "      <td>94</td>\n",
       "      <td>92</td>\n",
       "      <td>10.40</td>\n",
       "      <td>RU</td>\n",
       "      <td>1607229534</td>\n",
       "    </tr>\n",
       "    <tr>\n",
       "      <th>4</th>\n",
       "      <td>lebu</td>\n",
       "      <td>-37.62</td>\n",
       "      <td>-73.65</td>\n",
       "      <td>52.09</td>\n",
       "      <td>92</td>\n",
       "      <td>96</td>\n",
       "      <td>12.15</td>\n",
       "      <td>CL</td>\n",
       "      <td>1607229534</td>\n",
       "    </tr>\n",
       "  </tbody>\n",
       "</table>\n",
       "</div>"
      ],
      "text/plain": [
       "             city    lat     lon  maxtemp  humidity  cloudiness  windspeed  \\\n",
       "0            jalu  29.03   21.55    59.20        35           0      11.54   \n",
       "1      butaritari   3.07  172.79    82.04        78          90      12.48   \n",
       "2  port elizabeth -33.92   25.57    66.20        93          90      10.29   \n",
       "3        yar-sale  66.83   70.83    11.26        94          92      10.40   \n",
       "4            lebu -37.62  -73.65    52.09        92          96      12.15   \n",
       "\n",
       "  country    datetime  \n",
       "0      LY  1607229534  \n",
       "1      KI  1607229534  \n",
       "2      ZA  1607229449  \n",
       "3      RU  1607229534  \n",
       "4      CL  1607229534  "
      ]
     },
     "execution_count": 2,
     "metadata": {},
     "output_type": "execute_result"
    }
   ],
   "source": [
    "city_data = pd.read_csv(\"Resources/cities.csv\", index_col=0)\n",
    "city_data.head()"
   ]
  },
  {
   "cell_type": "code",
   "execution_count": 5,
   "metadata": {},
   "outputs": [],
   "source": [
    "city_html = city_data.to_html()"
   ]
  },
  {
   "cell_type": "code",
   "execution_count": 9,
   "metadata": {
    "scrolled": false
   },
   "outputs": [],
   "source": [
    "text_file = open(\"data_html.html\", \"w\")\n",
    "text_file.write(city_html)\n",
    "text_file.close()\n"
   ]
  },
  {
   "cell_type": "code",
   "execution_count": null,
   "metadata": {},
   "outputs": [],
   "source": []
  }
 ],
 "metadata": {
  "kernelspec": {
   "display_name": "Python 3",
   "language": "python",
   "name": "python3"
  },
  "language_info": {
   "codemirror_mode": {
    "name": "ipython",
    "version": 3
   },
   "file_extension": ".py",
   "mimetype": "text/x-python",
   "name": "python",
   "nbconvert_exporter": "python",
   "pygments_lexer": "ipython3",
   "version": "3.8.3"
  }
 },
 "nbformat": 4,
 "nbformat_minor": 4
}
